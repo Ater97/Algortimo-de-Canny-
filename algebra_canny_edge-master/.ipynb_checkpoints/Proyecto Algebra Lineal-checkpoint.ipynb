{
 "cells": [
  {
   "cell_type": "markdown",
   "metadata": {},
   "source": [
    "# Proyecto Final Algebra Lineal 2017\n",
    "---"
   ]
  },
  {
   "cell_type": "markdown",
   "metadata": {},
   "source": [
    "El proyecto del curso consiste en la implementación del [Algortimo de Canny](https://es.wikipedia.org/wiki/Algoritmo_de_Canny) para la detección de bordes en imágenes y videos. Para ello, se le entrega al estudiante toda la implementación del algoritmo en [OpenCV](http://opencv.org/) y su objetivo es **implementar las funciones de OpenCV con matrices**. \n",
    "\n",
    "Las funciones a modificar serán las siguientes:\n",
    "```python\n",
    "cv2.GaussianBlur()\n",
    "cv2.Sobel()\n",
    "```\n",
    "\n",
    "No es necesario que modifique más del código que se le solicita, pero puede hacer las modificaciones pertinentes si ese fuera el caso. Dentro del código se le indica en qué parte debe de ser modificado, por ejemplo:\n",
    "\n",
    "```python\n",
    "'''Modificar esta función'''\n",
    "    sobel = cv2.Sobel(img, cv2.CV_64F, x, y, ksize=sobel_kernel)\n",
    "``` \n",
    "\n",
    "Se recomienda buscar maneras de optimizar los cálculos de sus filtros, pues más adelante existe una aplicación en tiempo real donde es crucial que sus cálculos sean lo más rápidos posibles. Las dimensiones de los *kernels* no pueden ser modificadas."
   ]
  },
  {
   "cell_type": "markdown",
   "metadata": {},
   "source": [
    "## 0. Conceptos\n",
    "Para poder modificar las funciones solicitadas es necesario que comprenda algunos conceptos, por lo cual es necesario que defina:\n",
    "\n",
    "1. ¿En que consiste la convolución y cómo puede ser calculada? (Puede dar una definición matemática y/o ejemplos).\n",
    "\n",
    "2. ¿Qué es el *kernel* de un filtro y para que se utiliza?\n",
    "\n",
    "3. ¿En qué consiste un filtro Gaussiano?\n",
    "\n",
    "4. ¿En qué consiste el Filtro Sobel? ¿para qué sirve?\n",
    "\n",
    "3. Describa el algoritmo de detección de bordes Canny."
   ]
  },
  {
   "cell_type": "code",
   "execution_count": 1,
   "metadata": {
    "collapsed": true
   },
   "outputs": [],
   "source": [
    "import numpy as np\n",
    "np.seterr(over='ignore')\n",
    "import matplotlib.pylab as plt\n",
    "import cv2\n",
    "import math\n",
    "import time\n",
    "\n",
    "from moviepy.editor import VideoFileClip\n",
    "from IPython.display import HTML\n",
    "\n",
    "%matplotlib inline"
   ]
  },
  {
   "cell_type": "markdown",
   "metadata": {},
   "source": [
    "# rand prototypes"
   ]
  },
  {
   "cell_type": "code",
   "execution_count": 2,
   "metadata": {
    "collapsed": true
   },
   "outputs": [],
   "source": [
    "def kara(x, y):\n",
    "    if x.bit_length() <= 1024 or y.bit_length() <= _CUTOFF:  \n",
    "        total = 0\n",
    "        yy = [int(i) for i in str(y)]\n",
    "        for i, yyy in enumerate(yy[::-1]):\n",
    "            total += x * yyy * (10 ** i)\n",
    "        return total\n",
    "    else:\n",
    "        #print('karatsuba')\n",
    "        n = max(x.bit_length(), y.bit_length())\n",
    "        half = (n + 32) // 64 * 32\n",
    "        mask = (1 << half) - 1\n",
    "        xlow = x &amp; mask\n",
    "        ylow = y &amp; mask\n",
    "        xhigh = x >> half\n",
    "        yhigh = y >> half\n",
    "        a = kara(xhigh, yhigh)\n",
    "        b = kara(xlow + xhigh, ylow + yhigh)\n",
    "        c = kara(xlow, ylow)\n",
    "        d = b - a - c\n",
    "        return (((a << half) + d) << half) + c"
   ]
  },
  {
   "cell_type": "code",
   "execution_count": 7,
   "metadata": {
    "collapsed": true
   },
   "outputs": [],
   "source": [
    "def gaussian_blur(A, kernel = 5):\n",
    "    tiempoIn = time.time()\n",
    "    width, height = A.shape\n",
    "    B = A\n",
    "    lf = (height * width - (2 * width) )\n",
    "    li = (2 * width + 2)\n",
    "    w = (width - 2)\n",
    "    print 'size: ', width,' x ', height, ' lf: ', lf\n",
    "    for l in range( li, lf):  \n",
    "        i = abs(l % w) \n",
    "        j = l / width \n",
    "        B[i,j] = math.ceil((((A[i-2,j-2]+A[i+2,j-2]+A[i-2,j+2]+A[i+2,j+2])) + kara(4,(A[i-1,j-2]+A[i+1,j-2]+A[i-1,j+2]+A[i+1,j+2]+A[i-2,j-1]+A[i+2,j-1]+A[i+2,j+1]+A[i-2,j+1])) + kara(7,(A[i,j-2]+A[i,j+2]+A[i-2,j]+A[i+2,j])) + kara(16,(A[i-1,j-1]+A[i+1,j-1]+A[i-1,j+1]+A[i+1,j+1])) + kara(26,(A[i,j-1]+A[i-1,j]+A[i+1,j]+A[i,j+1])) +kara(41,A[i,j]))/273)\n",
    "            \n",
    "    print 'gaussian_blur kara: ', time.time() - tiempoIn, ' segundos'\n",
    "    return B"
   ]
  },
  {
   "cell_type": "markdown",
   "metadata": {},
   "source": [
    "#"
   ]
  },
  {
   "cell_type": "code",
   "execution_count": null,
   "metadata": {
    "collapsed": true
   },
   "outputs": [],
   "source": [
    "def gaussian_blur(A, kernel = 5):\n",
    "    tiempoIn = time.time()\n",
    "    width, height = A.shape\n",
    "    A = A.astype(np.float)\n",
    "    B = A\n",
    "    lf = (height * width - (2 * width) )\n",
    "    li = (2 * width + 2)\n",
    "    w = (width - 2)\n",
    "    print 'size: ', width,' x ', height, ' lf: ', lf\n",
    "    for l in range( li, lf):  \n",
    "        i = abs(l % w) \n",
    "        j = l / width \n",
    "        B[i,j] = math.floor((0.000252*(A[i-2,j-2]+A[i+2,j-2]+A[i-2,j+2]+A[i+2,j+2])) + (0.00352*(A[i-1,j-2]+A[i+1,j-2]+A[i-1,j+2]+A[i+1,j+2]+A[i-2,j-1]+A[i+2,j-1]+A[i+2,j+1]+A[i-2,j+1])) + (0.008344*(A[i,j-2]+A[i,j+2]+A[i-2,j]+A[i+2,j])) + (0.049081*(A[i-1,j-1]+A[i+1,j-1]+A[i-1,j+1]+A[i+1,j+1])) +(0.11634*(A[i,j-1]+A[i-1,j]+A[i+1,j]+A[i,j+1])) +(0.275768*A[i,j]))   \n",
    "    \n",
    "    print 'gaussian_blur one for: ', time.time() - tiempoIn, ' segundos'\n",
    "    return B"
   ]
  },
  {
   "cell_type": "code",
   "execution_count": 8,
   "metadata": {
    "collapsed": true
   },
   "outputs": [],
   "source": [
    "def sobel_filter(A, x, y, sobel_kernel=3):\n",
    "    tiempoIn = time.time()\n",
    "    width, height = A.shape\n",
    "    #A = A.astype(np.float)\n",
    "    B = np.zeros((width, height))\n",
    "    if x == 1:\n",
    "        for j in range(2,height-2): \n",
    "            for i in range(2,width-2):\n",
    "                B[i,j] = math.ceil(2*A[i+1,j] + A[i+1,j+1] + A[i+1,j-1] - (A[i-1,j-1] + A[i-1,j+1] + 2*A[i-1,j]))\n",
    "    else:\n",
    "        for j in range(2,height-2): \n",
    "            for i in range(2,width-2):\n",
    "                B[i,j] = math.ceil(A[i+1,j-1] + A[i-1,j-1] + 2*A[i,j-1] - (A[i-1,j+1] + A[i+1,j+1] + 2*A[i,j+1]))\n",
    "    print x, y, 'sobel_filter: ', time.time() - tiempoIn, ' segundos'       \n",
    "    return B"
   ]
  },
  {
   "cell_type": "markdown",
   "metadata": {
    "collapsed": true
   },
   "source": []
  },
  {
   "cell_type": "code",
   "execution_count": 9,
   "metadata": {
    "collapsed": true
   },
   "outputs": [],
   "source": [
    "#def gaussian_blur(img, kernel = 5):\n",
    " #   '''Modificar esta función'''\n",
    " #   return cv2.GaussianBlur(img,(kernel,kernel),0)\n",
    "#def sobel_filter (img, x, y, sobel_kernel= 3):\n",
    "  #  '''Modificar esta función'''\n",
    " #   return cv2.Sobel(img, cv2.CV_64F, x, y,sobel_kernel)\n",
    "\n",
    "global glbsobelx, glbsobely\n",
    "\n",
    "def C(image,sobel_kernel=3):\n",
    "    global glbsobelx, glbsobely\n",
    "    glbsobelx = sobel_filter(image, 1, 0, sobel_kernel)\n",
    "    glbsobely = sobel_filter(image, 0, 1, sobel_kernel)\n",
    "    \n",
    "\n",
    "def abs_sobel_thresh(img, orient='x', sobel_kernel=3, thresh=(0, 255)):\n",
    "    # Calculate directional gradient\n",
    "    if orient == 'x':\n",
    "        x,y = 1,0\n",
    "        sobel = glbsobelx\n",
    "    elif orient == 'y':\n",
    "        x,y = 0,1\n",
    "        sobel = glbsobely\n",
    "        \n",
    "    '''Modificar esta función'''\n",
    "    #sobel = sobel_filter(img, x, y, sobel_kernel)\n",
    "    \n",
    "    # Take the absolute value of the derivative or gradient\n",
    "    abs_sobel = np.absolute(sobel)\n",
    "\n",
    "    # Scale to 8-bit (0 - 255) then convert to type = np.uint8\n",
    "    scaled_sobel = np.uint8(255*abs_sobel/np.max(abs_sobel))\n",
    "    \n",
    "    # Create a mask of 1's where the scaled gradient magnitude \n",
    "    # is > thresh_min and < thresh_max\n",
    "    sbinary = np.zeros_like(scaled_sobel)\n",
    "    sbinary[(scaled_sobel >= thresh[0]) & (scaled_sobel <= thresh[1])] = 1\n",
    "    print 'abs_sobel_thresh done'\n",
    "    return sbinary\n",
    "\n",
    "def mag_thresh(image, sobel_kernel=3, mag_thresh=(0, 255)):\n",
    "    # Calculate gradient magnitude\n",
    "    # Take the gradient in x and y separately\n",
    "    '''Modificar esta función'''\n",
    "   # sobelx = sobel_filter(image, 1, 0, sobel_kernel)\n",
    "    sobelx = glbsobelx\n",
    "    '''Modificar esta función'''\n",
    "    #sobely = sobel_filter(image, 0, 1, sobel_kernel)\n",
    "    sobely = glbsobely\n",
    "    \n",
    "    # Calculate the magnitude \n",
    "    abs_sobel = np.sqrt(sobelx**2 +sobely**2)\n",
    "\n",
    "    # Scale to 8-bit (0 - 255) and convert to type = np.uint8\n",
    "    scaled_sobel = np.uint8(255*abs_sobel/np.max(abs_sobel))\n",
    "    \n",
    "    # Create a binary mask where mag thresholds are met\n",
    "    sbinary = np.zeros_like(scaled_sobel)\n",
    "    sbinary[(scaled_sobel >= mag_thresh[0]) & (scaled_sobel <= mag_thresh[1])] = 1\n",
    "    print 'mag_thresh done'\n",
    "    return sbinary\n",
    "\n",
    "def dir_threshold(image, sobel_kernel=3, thresh=(0, np.pi/2)):\n",
    "    # Calculate gradient direction\n",
    "    # Take the gradient in x and y separately\n",
    "    '''Modificar esta función'''\n",
    "    #sobelx = sobel_filter(image, 1, 0, sobel_kernel)\n",
    "    sobelx = glbsobelx\n",
    "    '''Modificar esta función'''\n",
    "    #sobely = sobel_filter(image, 0, 1, sobel_kernel)\n",
    "    sobely = glbsobely\n",
    "    \n",
    "    # Take the absolute value of the x and y gradients\n",
    "    abs_sobelx = np.absolute(sobelx)   \n",
    "    abs_sobely = np.absolute(sobely)\n",
    "    \n",
    "    # Use np.arctan2(abs_sobely, abs_sobelx) to calculate the direction of the gradient \n",
    "    grad_dir = np.arctan2(abs_sobely, abs_sobelx)\n",
    "    \n",
    "    # Create a binary mask where direction thresholds are met\n",
    "    sbinary = np.zeros_like(grad_dir)\n",
    "    sbinary[(grad_dir >= thresh[0]) & (grad_dir <= thresh[1])] = 1\n",
    "    print 'dir_threshhold done'\n",
    "    return sbinary"
   ]
  },
  {
   "cell_type": "markdown",
   "metadata": {},
   "source": [
    "# 1. Prueba en Imagen"
   ]
  },
  {
   "cell_type": "code",
   "execution_count": null,
   "metadata": {
    "scrolled": false
   },
   "outputs": [
    {
     "name": "stdout",
     "output_type": "stream",
     "text": [
      "size:  4608  x  2592  lf:  11934720\n"
     ]
    }
   ],
   "source": [
    "start_time = time.time()\n",
    "# Test filter on single image\n",
    "# BTD, hulk, pancakes, buzz, desk, spaceship\n",
    "im = plt.imread(\"BTD.jpg\")\n",
    "gray = cv2.cvtColor(im, cv2.COLOR_RGB2GRAY)\n",
    "\n",
    "# Gaussian Blur Filtering\n",
    "gray = gaussian_blur(gray, kernel = 5)\n",
    "\n",
    "# Choose a Sobel kernel size\n",
    "ksize = 3 # Choose a larger odd number to smooth gradient measurements\n",
    "\n",
    "# Apply each of the thresholding functions\n",
    "C(gray)\n",
    "gradx = abs_sobel_thresh(gray, orient='x', sobel_kernel=ksize, thresh=(50, 100))\n",
    "grady = abs_sobel_thresh(gray, orient='y', sobel_kernel=ksize, thresh=(50, 100))\n",
    "mag_binary = mag_thresh(gray, sobel_kernel=ksize, mag_thresh=(20, 100))\n",
    "dir_binary = dir_threshold(gray, sobel_kernel=ksize, thresh=(0, np.pi/2))\n",
    "\n",
    "# Create combined image with sobel filters applied\n",
    "combined = np.zeros_like(dir_binary)\n",
    "combined[((gradx == 1) & (grady == 1)) | ((mag_binary == 1) & (dir_binary == 1))] = 1\n",
    "\n",
    "rgb_combined = np.asarray(np.dstack((combined, combined, combined)), dtype=np.float64)\n",
    "hours, rem = divmod(time.time()-start_time, 3600)\n",
    "minutes, seconds = divmod(rem, 60)\n",
    "print(\"{:0>2}:{:0>2}:{:05.2f}\".format(int(hours),int(minutes),seconds))"
   ]
  },
  {
   "cell_type": "code",
   "execution_count": null,
   "metadata": {},
   "outputs": [],
   "source": [
    "print(\"{:0>2}:{:0>2}:{:05.2f}\".format(int(hours),int(minutes),seconds))\n",
    "# Plot the result\n",
    "f, ((ax1, ax2, ax3), (ax4, ax5, ax6)) = plt.subplots(2, 3, figsize=(10, 15))\n",
    "f.tight_layout()\n",
    "ax1.imshow(im)\n",
    "ax1.set_title('Original Image', fontsize=20)\n",
    "ax2.imshow(gray, cmap='gray')\n",
    "ax2.set_title('Gray Image', fontsize=20)\n",
    "ax3.imshow(rgb_combined, cmap='gray')\n",
    "ax3.set_title('Combined Sobel Image', fontsize=20)\n",
    "ax4.imshow(gradx, cmap='gray')\n",
    "ax4.set_title('GradX Image', fontsize=20)\n",
    "ax5.imshow(grady, cmap='gray')\n",
    "ax5.set_title('GradY Image', fontsize=20)\n",
    "ax6.imshow(((mag_binary == 1) & (dir_binary == 1)), cmap='gray')\n",
    "ax6.set_title('Thresholded Grad. Dir.', fontsize=20)\n",
    "\n",
    "plt.subplots_adjust(left=0., right=1, top=0.9, bottom=0.)\n",
    "plt.show() \n",
    "hours, rem = divmod(time.time()-start_time, 3600)\n",
    "minutes, seconds = divmod(rem, 60)\n",
    "print(\"{:0>2}:{:0>2}:{:05.2f}\".format(int(hours),int(minutes),seconds))"
   ]
  },
  {
   "cell_type": "markdown",
   "metadata": {},
   "source": [
    "## 2. Prueba en Videos"
   ]
  },
  {
   "cell_type": "code",
   "execution_count": null,
   "metadata": {
    "collapsed": true
   },
   "outputs": [],
   "source": [
    "def process_image(image):\n",
    "    \n",
    "    gray = cv2.cvtColor(image, cv2.COLOR_RGB2GRAY)\n",
    "    gray = gaussian_blur(gray, kernel = 5)\n",
    "    # Choose a Sobel kernel size\n",
    "    ksize = 3 # Choose a larger odd number to smooth gradient measurements\n",
    "\n",
    "    # Apply each of the thresholding functions\n",
    "    gradx = abs_sobel_thresh(gray, orient='x', sobel_kernel=ksize, thresh=(50, 100))\n",
    "    grady = abs_sobel_thresh(gray, orient='y', sobel_kernel=ksize, thresh=(50, 100))\n",
    "    mag_binary = mag_thresh(gray, sobel_kernel=ksize, mag_thresh=(20, 100))\n",
    "    dir_binary = dir_threshold(gray, sobel_kernel=ksize, thresh=(0, np.pi/4))\n",
    "    \n",
    "    combined = np.zeros_like(dir_binary)\n",
    "    combined[((gradx == 1) & (grady == 1)) | ((mag_binary == 1) & (dir_binary == 1))] = 1\n",
    "    \n",
    "    \n",
    "    rgb_combined = np.asarray(np.dstack((combined, combined, combined)), dtype=np.uint8)\n",
    "    \n",
    "    retval, threshold = cv2.threshold(rgb_combined, 0, 255, cv2.THRESH_BINARY)\n",
    "    \n",
    "    return threshold"
   ]
  },
  {
   "cell_type": "code",
   "execution_count": null,
   "metadata": {
    "collapsed": true
   },
   "outputs": [],
   "source": [
    "filter_output = 'Batman_Filter.mp4'\n",
    "clip1 = VideoFileClip(\"Batman.mp4\")\n",
    "batman_clip = clip1.fl_image(process_image) #NOTE: this function expects color images!!\n",
    "%time batman_clip.write_videofile(filter_output, audio=False)"
   ]
  },
  {
   "cell_type": "code",
   "execution_count": null,
   "metadata": {
    "collapsed": true
   },
   "outputs": [],
   "source": [
    "HTML(\"\"\"\n",
    "<video width=\"720\" height=\"480\" controls>\n",
    "  <source src=\"{0}\">\n",
    "</video>\n",
    "\"\"\".format(filter_output))"
   ]
  },
  {
   "cell_type": "code",
   "execution_count": null,
   "metadata": {
    "collapsed": true
   },
   "outputs": [],
   "source": [
    "cap = cv2.VideoCapture(0)  # 0 for Python 3, 1 for Python 2. No idea why?!!\n",
    "\n",
    "out = cv2.VideoWriter('output.avi',cv2.cv.CV_FOURCC('M','J','P','G'), 20.0, (640,480))\n",
    "\n",
    "while(cap.isOpened()):\n",
    "    ret, frame = cap.read()\n",
    "    if ret==True:\n",
    "        frame = cv2.flip(frame,180)\n",
    "        new_frame = process_image(frame)\n",
    "        out.write(new_frame)\n",
    "\n",
    "        cv2.imshow('frame',new_frame)\n",
    "        if cv2.waitKey(1) & 0xFF == ord('q'):\n",
    "            break\n",
    "    else:\n",
    "        break\n",
    "\n",
    "# Release everything if job is finished\n",
    "cap.release()\n",
    "out.release()\n",
    "cv2.destroyAllWindows()"
   ]
  }
 ],
 "metadata": {
  "kernelspec": {
   "display_name": "Python 2",
   "language": "python",
   "name": "python2"
  },
  "language_info": {
   "codemirror_mode": {
    "name": "ipython",
    "version": 2
   },
   "file_extension": ".py",
   "mimetype": "text/x-python",
   "name": "python",
   "nbconvert_exporter": "python",
   "pygments_lexer": "ipython2",
   "version": "2.7.13"
  }
 },
 "nbformat": 4,
 "nbformat_minor": 2
}
